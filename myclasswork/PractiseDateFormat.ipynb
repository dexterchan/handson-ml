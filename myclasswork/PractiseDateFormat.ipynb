{
 "cells": [
  {
   "cell_type": "code",
   "execution_count": 19,
   "metadata": {},
   "outputs": [],
   "source": [
    "import re\n",
    "import numpy as np\n",
    "from IPython.core.debugger import set_trace\n",
    "from enum import Enum\n",
    "from datetime import *; from dateutil.relativedelta import *\n",
    "class DATETYPE(Enum):\n",
    "    DAY=0\n",
    "    WEEK=1\n",
    "    MONTH=2\n",
    "    YEAR=3\n",
    "def FinanceDate(date, genericdate):\n",
    "    #set_trace()\n",
    "    \n",
    "    matchformat=re.match( \"([+-]?)(\\d+)([A-Za-z])\",genericdate.lower())\n",
    "    matchGDformat=re.match(\"([A-Za-z]{3})(\\d{2})\", genericdate.lower())\n",
    "    if(matchformat is not None): \n",
    "        num = int(matchformat.group(2))\n",
    "        st = matchformat.group(3)\n",
    "        num = (num * (-1)) if (matchformat.group(1)==\"-\") else num\n",
    "        dd=date\n",
    "\n",
    "        if(st == \"d\"):\n",
    "            dd=date + relativedelta(days=num)\n",
    "        elif(st == \"w\"):\n",
    "            dd=date + relativedelta(weeks=num)\n",
    "        elif(st==\"m\"):\n",
    "            dd=date + relativedelta(months=num)\n",
    "        elif(st==\"y\"):\n",
    "            dd=date + relativedelta(years=num)\n",
    "        return dd\n",
    "    elif (matchGDformat is not None):\n",
    "        dd=datetime.strptime(genericdate, \"%b%y\")\n",
    "        dd = dd + relativedelta(weeks=2)\n",
    "        return dd\n",
    "    else:\n",
    "        raise Exception('Date format cannot be handled')\n",
    "    \n",
    "    "
   ]
  },
  {
   "cell_type": "code",
   "execution_count": 20,
   "metadata": {},
   "outputs": [
    {
     "data": {
      "text/plain": [
       "datetime.datetime(2018, 5, 3, 13, 4, 38, 232505)"
      ]
     },
     "execution_count": 20,
     "metadata": {},
     "output_type": "execute_result"
    }
   ],
   "source": [
    "FinanceDate(datetime.now(),\"+1w\")\n"
   ]
  },
  {
   "cell_type": "code",
   "execution_count": 21,
   "metadata": {},
   "outputs": [
    {
     "data": {
      "text/plain": [
       "datetime.datetime(2019, 3, 15, 0, 0)"
      ]
     },
     "execution_count": 21,
     "metadata": {},
     "output_type": "execute_result"
    }
   ],
   "source": [
    "FinanceDate(datetime.now(),\"MAR19\")"
   ]
  },
  {
   "cell_type": "code",
   "execution_count": 2,
   "metadata": {},
   "outputs": [],
   "source": [
    "matchformat=re.match( \"([+-]?)(\\d+)([A-Za-z])\",\"-1d\")"
   ]
  },
  {
   "cell_type": "code",
   "execution_count": 4,
   "metadata": {},
   "outputs": [],
   "source": [
    "matchformat=re.match( \"([A-Za-z]{3})(\\d{2})\",\"MAR18\")"
   ]
  },
  {
   "cell_type": "code",
   "execution_count": 7,
   "metadata": {},
   "outputs": [
    {
     "data": {
      "text/plain": [
       "'MAR'"
      ]
     },
     "execution_count": 7,
     "metadata": {},
     "output_type": "execute_result"
    }
   ],
   "source": [
    "matchformat.group(1)"
   ]
  },
  {
   "cell_type": "code",
   "execution_count": 8,
   "metadata": {},
   "outputs": [
    {
     "data": {
      "text/plain": [
       "'18'"
      ]
     },
     "execution_count": 8,
     "metadata": {},
     "output_type": "execute_result"
    }
   ],
   "source": [
    "matchformat.group(2)"
   ]
  },
  {
   "cell_type": "code",
   "execution_count": 11,
   "metadata": {},
   "outputs": [
    {
     "data": {
      "text/plain": [
       "datetime.datetime(2018, 4, 1, 0, 0)"
      ]
     },
     "execution_count": 11,
     "metadata": {},
     "output_type": "execute_result"
    }
   ],
   "source": [
    "datetime.strptime(\"apr18\", \"%b%y\")"
   ]
  },
  {
   "cell_type": "code",
   "execution_count": null,
   "metadata": {},
   "outputs": [],
   "source": []
  }
 ],
 "metadata": {
  "kernelspec": {
   "display_name": "Python 3",
   "language": "python",
   "name": "python3"
  },
  "language_info": {
   "codemirror_mode": {
    "name": "ipython",
    "version": 3
   },
   "file_extension": ".py",
   "mimetype": "text/x-python",
   "name": "python",
   "nbconvert_exporter": "python",
   "pygments_lexer": "ipython3",
   "version": "3.6.3"
  }
 },
 "nbformat": 4,
 "nbformat_minor": 2
}
